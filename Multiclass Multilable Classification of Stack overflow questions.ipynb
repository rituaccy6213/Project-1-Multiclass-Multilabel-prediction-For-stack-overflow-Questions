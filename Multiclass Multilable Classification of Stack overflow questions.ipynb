{
 "cells": [
  {
   "cell_type": "code",
   "execution_count": 1,
   "id": "db98f191",
   "metadata": {},
   "outputs": [],
   "source": [
    "import numpy as np \n",
    "import pandas as pd \n",
    "import collections\n",
    "import matplotlib.pyplot as plt\n",
    "import matplotlib.cm as cm"
   ]
  },
  {
   "cell_type": "code",
   "execution_count": 2,
   "id": "3c804d8b",
   "metadata": {},
   "outputs": [
    {
     "data": {
      "text/html": [
       "<div>\n",
       "<style scoped>\n",
       "    .dataframe tbody tr th:only-of-type {\n",
       "        vertical-align: middle;\n",
       "    }\n",
       "\n",
       "    .dataframe tbody tr th {\n",
       "        vertical-align: top;\n",
       "    }\n",
       "\n",
       "    .dataframe thead th {\n",
       "        text-align: right;\n",
       "    }\n",
       "</style>\n",
       "<table border=\"1\" class=\"dataframe\">\n",
       "  <thead>\n",
       "    <tr style=\"text-align: right;\">\n",
       "      <th></th>\n",
       "      <th>Id</th>\n",
       "      <th>OwnerUserId</th>\n",
       "      <th>CreationDate</th>\n",
       "      <th>ClosedDate</th>\n",
       "      <th>Score</th>\n",
       "      <th>Title</th>\n",
       "      <th>Body</th>\n",
       "    </tr>\n",
       "  </thead>\n",
       "  <tbody>\n",
       "    <tr>\n",
       "      <th>0</th>\n",
       "      <td>80</td>\n",
       "      <td>26.0</td>\n",
       "      <td>2008-08-01T13:57:07Z</td>\n",
       "      <td>NaN</td>\n",
       "      <td>26</td>\n",
       "      <td>SQLStatement.execute() - multiple queries in o...</td>\n",
       "      <td>&lt;p&gt;I've written a database generation script i...</td>\n",
       "    </tr>\n",
       "    <tr>\n",
       "      <th>1</th>\n",
       "      <td>90</td>\n",
       "      <td>58.0</td>\n",
       "      <td>2008-08-01T14:41:24Z</td>\n",
       "      <td>2012-12-26T03:45:49Z</td>\n",
       "      <td>144</td>\n",
       "      <td>Good branching and merging tutorials for Torto...</td>\n",
       "      <td>&lt;p&gt;Are there any really good tutorials explain...</td>\n",
       "    </tr>\n",
       "    <tr>\n",
       "      <th>2</th>\n",
       "      <td>120</td>\n",
       "      <td>83.0</td>\n",
       "      <td>2008-08-01T15:50:08Z</td>\n",
       "      <td>NaN</td>\n",
       "      <td>21</td>\n",
       "      <td>ASP.NET Site Maps</td>\n",
       "      <td>&lt;p&gt;Has anyone got experience creating &lt;strong&gt;...</td>\n",
       "    </tr>\n",
       "    <tr>\n",
       "      <th>3</th>\n",
       "      <td>180</td>\n",
       "      <td>2089740.0</td>\n",
       "      <td>2008-08-01T18:42:19Z</td>\n",
       "      <td>NaN</td>\n",
       "      <td>53</td>\n",
       "      <td>Function for creating color wheels</td>\n",
       "      <td>&lt;p&gt;This is something I've pseudo-solved many t...</td>\n",
       "    </tr>\n",
       "    <tr>\n",
       "      <th>4</th>\n",
       "      <td>260</td>\n",
       "      <td>91.0</td>\n",
       "      <td>2008-08-01T23:22:08Z</td>\n",
       "      <td>NaN</td>\n",
       "      <td>49</td>\n",
       "      <td>Adding scripting functionality to .NET applica...</td>\n",
       "      <td>&lt;p&gt;I have a little game written in C#. It uses...</td>\n",
       "    </tr>\n",
       "    <tr>\n",
       "      <th>5</th>\n",
       "      <td>330</td>\n",
       "      <td>63.0</td>\n",
       "      <td>2008-08-02T02:51:36Z</td>\n",
       "      <td>NaN</td>\n",
       "      <td>29</td>\n",
       "      <td>Should I use nested classes in this case?</td>\n",
       "      <td>&lt;p&gt;I am working on a collection of classes use...</td>\n",
       "    </tr>\n",
       "    <tr>\n",
       "      <th>6</th>\n",
       "      <td>470</td>\n",
       "      <td>71.0</td>\n",
       "      <td>2008-08-02T15:11:47Z</td>\n",
       "      <td>2016-03-26T05:23:29Z</td>\n",
       "      <td>13</td>\n",
       "      <td>Homegrown consumption of web services</td>\n",
       "      <td>&lt;p&gt;I've been writing a few web services for a ...</td>\n",
       "    </tr>\n",
       "    <tr>\n",
       "      <th>7</th>\n",
       "      <td>580</td>\n",
       "      <td>91.0</td>\n",
       "      <td>2008-08-02T23:30:59Z</td>\n",
       "      <td>NaN</td>\n",
       "      <td>21</td>\n",
       "      <td>Deploying SQL Server Databases from Test to Live</td>\n",
       "      <td>&lt;p&gt;I wonder how you guys manage deployment of ...</td>\n",
       "    </tr>\n",
       "    <tr>\n",
       "      <th>8</th>\n",
       "      <td>650</td>\n",
       "      <td>143.0</td>\n",
       "      <td>2008-08-03T11:12:52Z</td>\n",
       "      <td>NaN</td>\n",
       "      <td>79</td>\n",
       "      <td>Automatically update version number</td>\n",
       "      <td>&lt;p&gt;I would like the version property of my app...</td>\n",
       "    </tr>\n",
       "    <tr>\n",
       "      <th>9</th>\n",
       "      <td>810</td>\n",
       "      <td>233.0</td>\n",
       "      <td>2008-08-03T20:35:01Z</td>\n",
       "      <td>NaN</td>\n",
       "      <td>9</td>\n",
       "      <td>Visual Studio Setup Project - Per User Registr...</td>\n",
       "      <td>&lt;p&gt;I'm trying to maintain a Setup Project in &lt;...</td>\n",
       "    </tr>\n",
       "  </tbody>\n",
       "</table>\n",
       "</div>"
      ],
      "text/plain": [
       "    Id  OwnerUserId          CreationDate            ClosedDate  Score  \\\n",
       "0   80         26.0  2008-08-01T13:57:07Z                   NaN     26   \n",
       "1   90         58.0  2008-08-01T14:41:24Z  2012-12-26T03:45:49Z    144   \n",
       "2  120         83.0  2008-08-01T15:50:08Z                   NaN     21   \n",
       "3  180    2089740.0  2008-08-01T18:42:19Z                   NaN     53   \n",
       "4  260         91.0  2008-08-01T23:22:08Z                   NaN     49   \n",
       "5  330         63.0  2008-08-02T02:51:36Z                   NaN     29   \n",
       "6  470         71.0  2008-08-02T15:11:47Z  2016-03-26T05:23:29Z     13   \n",
       "7  580         91.0  2008-08-02T23:30:59Z                   NaN     21   \n",
       "8  650        143.0  2008-08-03T11:12:52Z                   NaN     79   \n",
       "9  810        233.0  2008-08-03T20:35:01Z                   NaN      9   \n",
       "\n",
       "                                               Title  \\\n",
       "0  SQLStatement.execute() - multiple queries in o...   \n",
       "1  Good branching and merging tutorials for Torto...   \n",
       "2                                  ASP.NET Site Maps   \n",
       "3                 Function for creating color wheels   \n",
       "4  Adding scripting functionality to .NET applica...   \n",
       "5          Should I use nested classes in this case?   \n",
       "6              Homegrown consumption of web services   \n",
       "7   Deploying SQL Server Databases from Test to Live   \n",
       "8                Automatically update version number   \n",
       "9  Visual Studio Setup Project - Per User Registr...   \n",
       "\n",
       "                                                Body  \n",
       "0  <p>I've written a database generation script i...  \n",
       "1  <p>Are there any really good tutorials explain...  \n",
       "2  <p>Has anyone got experience creating <strong>...  \n",
       "3  <p>This is something I've pseudo-solved many t...  \n",
       "4  <p>I have a little game written in C#. It uses...  \n",
       "5  <p>I am working on a collection of classes use...  \n",
       "6  <p>I've been writing a few web services for a ...  \n",
       "7  <p>I wonder how you guys manage deployment of ...  \n",
       "8  <p>I would like the version property of my app...  \n",
       "9  <p>I'm trying to maintain a Setup Project in <...  "
      ]
     },
     "execution_count": 2,
     "metadata": {},
     "output_type": "execute_result"
    }
   ],
   "source": [
    "questions = pd.read_csv('Questions.csv',encoding='iso-8859-1')\n",
    "questions.head(10)"
   ]
  },
  {
   "cell_type": "code",
   "execution_count": 3,
   "id": "0510b605",
   "metadata": {},
   "outputs": [
    {
     "data": {
      "text/html": [
       "<div>\n",
       "<style scoped>\n",
       "    .dataframe tbody tr th:only-of-type {\n",
       "        vertical-align: middle;\n",
       "    }\n",
       "\n",
       "    .dataframe tbody tr th {\n",
       "        vertical-align: top;\n",
       "    }\n",
       "\n",
       "    .dataframe thead th {\n",
       "        text-align: right;\n",
       "    }\n",
       "</style>\n",
       "<table border=\"1\" class=\"dataframe\">\n",
       "  <thead>\n",
       "    <tr style=\"text-align: right;\">\n",
       "      <th></th>\n",
       "      <th>Id</th>\n",
       "      <th>Title</th>\n",
       "      <th>Body</th>\n",
       "    </tr>\n",
       "  </thead>\n",
       "  <tbody>\n",
       "    <tr>\n",
       "      <th>0</th>\n",
       "      <td>80</td>\n",
       "      <td>SQLStatement.execute() - multiple queries in o...</td>\n",
       "      <td>&lt;p&gt;I've written a database generation script i...</td>\n",
       "    </tr>\n",
       "    <tr>\n",
       "      <th>1</th>\n",
       "      <td>90</td>\n",
       "      <td>Good branching and merging tutorials for Torto...</td>\n",
       "      <td>&lt;p&gt;Are there any really good tutorials explain...</td>\n",
       "    </tr>\n",
       "    <tr>\n",
       "      <th>2</th>\n",
       "      <td>120</td>\n",
       "      <td>ASP.NET Site Maps</td>\n",
       "      <td>&lt;p&gt;Has anyone got experience creating &lt;strong&gt;...</td>\n",
       "    </tr>\n",
       "    <tr>\n",
       "      <th>3</th>\n",
       "      <td>180</td>\n",
       "      <td>Function for creating color wheels</td>\n",
       "      <td>&lt;p&gt;This is something I've pseudo-solved many t...</td>\n",
       "    </tr>\n",
       "    <tr>\n",
       "      <th>4</th>\n",
       "      <td>260</td>\n",
       "      <td>Adding scripting functionality to .NET applica...</td>\n",
       "      <td>&lt;p&gt;I have a little game written in C#. It uses...</td>\n",
       "    </tr>\n",
       "    <tr>\n",
       "      <th>5</th>\n",
       "      <td>330</td>\n",
       "      <td>Should I use nested classes in this case?</td>\n",
       "      <td>&lt;p&gt;I am working on a collection of classes use...</td>\n",
       "    </tr>\n",
       "    <tr>\n",
       "      <th>6</th>\n",
       "      <td>470</td>\n",
       "      <td>Homegrown consumption of web services</td>\n",
       "      <td>&lt;p&gt;I've been writing a few web services for a ...</td>\n",
       "    </tr>\n",
       "    <tr>\n",
       "      <th>7</th>\n",
       "      <td>580</td>\n",
       "      <td>Deploying SQL Server Databases from Test to Live</td>\n",
       "      <td>&lt;p&gt;I wonder how you guys manage deployment of ...</td>\n",
       "    </tr>\n",
       "    <tr>\n",
       "      <th>8</th>\n",
       "      <td>650</td>\n",
       "      <td>Automatically update version number</td>\n",
       "      <td>&lt;p&gt;I would like the version property of my app...</td>\n",
       "    </tr>\n",
       "    <tr>\n",
       "      <th>9</th>\n",
       "      <td>810</td>\n",
       "      <td>Visual Studio Setup Project - Per User Registr...</td>\n",
       "      <td>&lt;p&gt;I'm trying to maintain a Setup Project in &lt;...</td>\n",
       "    </tr>\n",
       "  </tbody>\n",
       "</table>\n",
       "</div>"
      ],
      "text/plain": [
       "    Id                                              Title  \\\n",
       "0   80  SQLStatement.execute() - multiple queries in o...   \n",
       "1   90  Good branching and merging tutorials for Torto...   \n",
       "2  120                                  ASP.NET Site Maps   \n",
       "3  180                 Function for creating color wheels   \n",
       "4  260  Adding scripting functionality to .NET applica...   \n",
       "5  330          Should I use nested classes in this case?   \n",
       "6  470              Homegrown consumption of web services   \n",
       "7  580   Deploying SQL Server Databases from Test to Live   \n",
       "8  650                Automatically update version number   \n",
       "9  810  Visual Studio Setup Project - Per User Registr...   \n",
       "\n",
       "                                                Body  \n",
       "0  <p>I've written a database generation script i...  \n",
       "1  <p>Are there any really good tutorials explain...  \n",
       "2  <p>Has anyone got experience creating <strong>...  \n",
       "3  <p>This is something I've pseudo-solved many t...  \n",
       "4  <p>I have a little game written in C#. It uses...  \n",
       "5  <p>I am working on a collection of classes use...  \n",
       "6  <p>I've been writing a few web services for a ...  \n",
       "7  <p>I wonder how you guys manage deployment of ...  \n",
       "8  <p>I would like the version property of my app...  \n",
       "9  <p>I'm trying to maintain a Setup Project in <...  "
      ]
     },
     "execution_count": 3,
     "metadata": {},
     "output_type": "execute_result"
    }
   ],
   "source": [
    "questions.drop([\"OwnerUserId\",\"CreationDate\",\"ClosedDate\",\"Score\"], axis=1, inplace=True)\n",
    "questions.head(10)"
   ]
  },
  {
   "cell_type": "code",
   "execution_count": 4,
   "id": "42f1274f",
   "metadata": {},
   "outputs": [],
   "source": [
    "import re \n",
    "\n",
    "def rem_html_tags(body):\n",
    "    regex = re.compile('<.*?>')\n",
    "    return re.sub(regex, '', body)"
   ]
  },
  {
   "cell_type": "code",
   "execution_count": 5,
   "id": "26b196b2",
   "metadata": {},
   "outputs": [
    {
     "data": {
      "text/html": [
       "<div>\n",
       "<style scoped>\n",
       "    .dataframe tbody tr th:only-of-type {\n",
       "        vertical-align: middle;\n",
       "    }\n",
       "\n",
       "    .dataframe tbody tr th {\n",
       "        vertical-align: top;\n",
       "    }\n",
       "\n",
       "    .dataframe thead th {\n",
       "        text-align: right;\n",
       "    }\n",
       "</style>\n",
       "<table border=\"1\" class=\"dataframe\">\n",
       "  <thead>\n",
       "    <tr style=\"text-align: right;\">\n",
       "      <th></th>\n",
       "      <th>Id</th>\n",
       "      <th>Title</th>\n",
       "      <th>Body</th>\n",
       "    </tr>\n",
       "  </thead>\n",
       "  <tbody>\n",
       "    <tr>\n",
       "      <th>0</th>\n",
       "      <td>80</td>\n",
       "      <td>SQLStatement.execute() - multiple queries in o...</td>\n",
       "      <td>I've written a database generation script in S...</td>\n",
       "    </tr>\n",
       "    <tr>\n",
       "      <th>1</th>\n",
       "      <td>90</td>\n",
       "      <td>Good branching and merging tutorials for Torto...</td>\n",
       "      <td>Are there any really good tutorials explaining...</td>\n",
       "    </tr>\n",
       "    <tr>\n",
       "      <th>2</th>\n",
       "      <td>120</td>\n",
       "      <td>ASP.NET Site Maps</td>\n",
       "      <td>Has anyone got experience creating SQL-based A...</td>\n",
       "    </tr>\n",
       "    <tr>\n",
       "      <th>3</th>\n",
       "      <td>180</td>\n",
       "      <td>Function for creating color wheels</td>\n",
       "      <td>This is something I've pseudo-solved many time...</td>\n",
       "    </tr>\n",
       "    <tr>\n",
       "      <th>4</th>\n",
       "      <td>260</td>\n",
       "      <td>Adding scripting functionality to .NET applica...</td>\n",
       "      <td>I have a little game written in C#. It uses a ...</td>\n",
       "    </tr>\n",
       "  </tbody>\n",
       "</table>\n",
       "</div>"
      ],
      "text/plain": [
       "    Id                                              Title  \\\n",
       "0   80  SQLStatement.execute() - multiple queries in o...   \n",
       "1   90  Good branching and merging tutorials for Torto...   \n",
       "2  120                                  ASP.NET Site Maps   \n",
       "3  180                 Function for creating color wheels   \n",
       "4  260  Adding scripting functionality to .NET applica...   \n",
       "\n",
       "                                                Body  \n",
       "0  I've written a database generation script in S...  \n",
       "1  Are there any really good tutorials explaining...  \n",
       "2  Has anyone got experience creating SQL-based A...  \n",
       "3  This is something I've pseudo-solved many time...  \n",
       "4  I have a little game written in C#. It uses a ...  "
      ]
     },
     "execution_count": 5,
     "metadata": {},
     "output_type": "execute_result"
    }
   ],
   "source": [
    "questions['Body'] = questions['Body'].apply(rem_html_tags)\n",
    "questions.head()"
   ]
  },
  {
   "cell_type": "code",
   "execution_count": 6,
   "id": "770cafa5",
   "metadata": {},
   "outputs": [],
   "source": [
    "questions.to_csv('question_clean.csv',index=False)"
   ]
  },
  {
   "cell_type": "code",
   "execution_count": 7,
   "id": "f50bcf2c",
   "metadata": {},
   "outputs": [],
   "source": [
    "df_tags = pd.read_csv('Tags.csv', encoding='iso-8859-1')"
   ]
  },
  {
   "cell_type": "code",
   "execution_count": 8,
   "id": "762375f8",
   "metadata": {},
   "outputs": [
    {
     "data": {
      "text/html": [
       "<div>\n",
       "<style scoped>\n",
       "    .dataframe tbody tr th:only-of-type {\n",
       "        vertical-align: middle;\n",
       "    }\n",
       "\n",
       "    .dataframe tbody tr th {\n",
       "        vertical-align: top;\n",
       "    }\n",
       "\n",
       "    .dataframe thead th {\n",
       "        text-align: right;\n",
       "    }\n",
       "</style>\n",
       "<table border=\"1\" class=\"dataframe\">\n",
       "  <thead>\n",
       "    <tr style=\"text-align: right;\">\n",
       "      <th></th>\n",
       "      <th>Id</th>\n",
       "      <th>Tag</th>\n",
       "    </tr>\n",
       "  </thead>\n",
       "  <tbody>\n",
       "    <tr>\n",
       "      <th>0</th>\n",
       "      <td>80</td>\n",
       "      <td>flex</td>\n",
       "    </tr>\n",
       "    <tr>\n",
       "      <th>1</th>\n",
       "      <td>80</td>\n",
       "      <td>actionscript-3</td>\n",
       "    </tr>\n",
       "    <tr>\n",
       "      <th>2</th>\n",
       "      <td>80</td>\n",
       "      <td>air</td>\n",
       "    </tr>\n",
       "    <tr>\n",
       "      <th>3</th>\n",
       "      <td>90</td>\n",
       "      <td>svn</td>\n",
       "    </tr>\n",
       "    <tr>\n",
       "      <th>4</th>\n",
       "      <td>90</td>\n",
       "      <td>tortoisesvn</td>\n",
       "    </tr>\n",
       "  </tbody>\n",
       "</table>\n",
       "</div>"
      ],
      "text/plain": [
       "   Id             Tag\n",
       "0  80            flex\n",
       "1  80  actionscript-3\n",
       "2  80             air\n",
       "3  90             svn\n",
       "4  90     tortoisesvn"
      ]
     },
     "execution_count": 8,
     "metadata": {},
     "output_type": "execute_result"
    }
   ],
   "source": [
    "df_tags.head()"
   ]
  },
  {
   "cell_type": "code",
   "execution_count": 9,
   "id": "9b045af4",
   "metadata": {},
   "outputs": [],
   "source": [
    "def plot_tags(tagCount):\n",
    "    \n",
    "    x,y = zip(*tagCount)\n",
    "\n",
    "    colormap = plt.cm.gist_ncar   \n",
    "    colors = [colormap(i) for i in np.linspace(0, 0.8,50)]   \n",
    "\n",
    "    area = [i/4000 for i in list(y)]   \n",
    "    plt.figure(figsize=(9,8))\n",
    "    plt.ylabel(\"Number of question associations\")\n",
    "    for i in range(len(y)):\n",
    "        plt.plot(i,y[i], marker='o', linestyle='',ms=area[i],label=x[i])\n",
    "\n",
    "    plt.legend(numpoints=1)\n",
    "    plt.show()"
   ]
  },
  {
   "cell_type": "code",
   "execution_count": 10,
   "id": "abd1dc74",
   "metadata": {},
   "outputs": [
    {
     "name": "stdout",
     "output_type": "stream",
     "text": [
      "[('javascript', 124155), ('java', 115212), ('c#', 101186), ('php', 98808), ('android', 90659), ('jquery', 78542), ('python', 64601), ('html', 58976), ('c++', 47591), ('ios', 47009)]\n"
     ]
    },
    {
     "data": {
      "image/png": "[encoded data removed]",
      "text/plain": [
       "<Figure size 648x576 with 1 Axes>"
      ]
     },
     "metadata": {
      "needs_background": "light"
     },
     "output_type": "display_data"
    }
   ],
   "source": [
    "tagCount =  collections.Counter(list(df_tags['Tag'])).most_common(10)\n",
    "print(tagCount)\n",
    "plot_tags(tagCount)"
   ]
  },
  {
   "cell_type": "code",
   "execution_count": 11,
   "id": "c8a8d515",
   "metadata": {},
   "outputs": [],
   "source": [
    "top10=['javascript','java','c#','php','android','jquery','python','html','c++','ios']"
   ]
  },
  {
   "cell_type": "code",
   "execution_count": 12,
   "id": "7913a7b1",
   "metadata": {},
   "outputs": [
    {
     "name": "stdout",
     "output_type": "stream",
     "text": [
      "(826739, 2)\n"
     ]
    },
    {
     "data": {
      "text/html": [
       "<div>\n",
       "<style scoped>\n",
       "    .dataframe tbody tr th:only-of-type {\n",
       "        vertical-align: middle;\n",
       "    }\n",
       "\n",
       "    .dataframe tbody tr th {\n",
       "        vertical-align: top;\n",
       "    }\n",
       "\n",
       "    .dataframe thead th {\n",
       "        text-align: right;\n",
       "    }\n",
       "</style>\n",
       "<table border=\"1\" class=\"dataframe\">\n",
       "  <thead>\n",
       "    <tr style=\"text-align: right;\">\n",
       "      <th></th>\n",
       "      <th>Id</th>\n",
       "      <th>Tag</th>\n",
       "    </tr>\n",
       "  </thead>\n",
       "  <tbody>\n",
       "    <tr>\n",
       "      <th>14</th>\n",
       "      <td>260</td>\n",
       "      <td>c#</td>\n",
       "    </tr>\n",
       "    <tr>\n",
       "      <th>18</th>\n",
       "      <td>330</td>\n",
       "      <td>c++</td>\n",
       "    </tr>\n",
       "    <tr>\n",
       "      <th>28</th>\n",
       "      <td>650</td>\n",
       "      <td>c#</td>\n",
       "    </tr>\n",
       "    <tr>\n",
       "      <th>35</th>\n",
       "      <td>930</td>\n",
       "      <td>c#</td>\n",
       "    </tr>\n",
       "    <tr>\n",
       "      <th>39</th>\n",
       "      <td>1010</td>\n",
       "      <td>c#</td>\n",
       "    </tr>\n",
       "  </tbody>\n",
       "</table>\n",
       "</div>"
      ],
      "text/plain": [
       "      Id  Tag\n",
       "14   260   c#\n",
       "18   330  c++\n",
       "28   650   c#\n",
       "35   930   c#\n",
       "39  1010   c#"
      ]
     },
     "execution_count": 12,
     "metadata": {},
     "output_type": "execute_result"
    }
   ],
   "source": [
    "tag_top10= df_tags[df_tags.Tag.isin(top10)]\n",
    "print (tag_top10.shape)\n",
    "tag_top10.head()"
   ]
  },
  {
   "cell_type": "code",
   "execution_count": 13,
   "id": "6a00bf6a",
   "metadata": {},
   "outputs": [
    {
     "data": {
      "text/plain": [
       "30798790    5\n",
       "31085960    5\n",
       "11648170    5\n",
       "35318730    5\n",
       "4009250     5\n",
       "30289880    5\n",
       "23267320    5\n",
       "35283570    5\n",
       "30991580    5\n",
       "23484760    5\n",
       "Name: Id, dtype: int64"
      ]
     },
     "execution_count": 13,
     "metadata": {},
     "output_type": "execute_result"
    }
   ],
   "source": [
    "tag_top10['Id'].value_counts().head(10)"
   ]
  },
  {
   "cell_type": "code",
   "execution_count": 14,
   "id": "298779c2",
   "metadata": {},
   "outputs": [
    {
     "data": {
      "text/html": [
       "<div>\n",
       "<style scoped>\n",
       "    .dataframe tbody tr th:only-of-type {\n",
       "        vertical-align: middle;\n",
       "    }\n",
       "\n",
       "    .dataframe tbody tr th {\n",
       "        vertical-align: top;\n",
       "    }\n",
       "\n",
       "    .dataframe thead th {\n",
       "        text-align: right;\n",
       "    }\n",
       "</style>\n",
       "<table border=\"1\" class=\"dataframe\">\n",
       "  <thead>\n",
       "    <tr style=\"text-align: right;\">\n",
       "      <th></th>\n",
       "      <th>Id</th>\n",
       "      <th>Tag</th>\n",
       "    </tr>\n",
       "  </thead>\n",
       "  <tbody>\n",
       "    <tr>\n",
       "      <th>14</th>\n",
       "      <td>260</td>\n",
       "      <td>c#</td>\n",
       "    </tr>\n",
       "    <tr>\n",
       "      <th>18</th>\n",
       "      <td>330</td>\n",
       "      <td>c++</td>\n",
       "    </tr>\n",
       "    <tr>\n",
       "      <th>28</th>\n",
       "      <td>650</td>\n",
       "      <td>c#</td>\n",
       "    </tr>\n",
       "    <tr>\n",
       "      <th>35</th>\n",
       "      <td>930</td>\n",
       "      <td>c#</td>\n",
       "    </tr>\n",
       "    <tr>\n",
       "      <th>39</th>\n",
       "      <td>1010</td>\n",
       "      <td>c#</td>\n",
       "    </tr>\n",
       "  </tbody>\n",
       "</table>\n",
       "</div>"
      ],
      "text/plain": [
       "      Id  Tag\n",
       "14   260   c#\n",
       "18   330  c++\n",
       "28   650   c#\n",
       "35   930   c#\n",
       "39  1010   c#"
      ]
     },
     "execution_count": 14,
     "metadata": {},
     "output_type": "execute_result"
    }
   ],
   "source": [
    "tag_top10.head()"
   ]
  },
  {
   "cell_type": "code",
   "execution_count": 15,
   "id": "c5f4b3c4",
   "metadata": {},
   "outputs": [],
   "source": [
    "def add_tags(question_id):\n",
    "    return tag_top10[tag_top10['Id'] == question_id['Id']].Tag.values\n",
    "\n",
    "top10 = tag_top10.apply(add_tags, axis=1)"
   ]
  },
  {
   "cell_type": "code",
   "execution_count": 16,
   "id": "e17967f5",
   "metadata": {},
   "outputs": [
    {
     "data": {
      "text/plain": [
       "(826739, (826739, 2))"
      ]
     },
     "execution_count": 16,
     "metadata": {},
     "output_type": "execute_result"
    }
   ],
   "source": [
    "len(top10),tag_top10.shape"
   ]
  },
  {
   "cell_type": "code",
   "execution_count": 17,
   "id": "2174a5bf",
   "metadata": {},
   "outputs": [
    {
     "data": {
      "text/html": [
       "<div>\n",
       "<style scoped>\n",
       "    .dataframe tbody tr th:only-of-type {\n",
       "        vertical-align: middle;\n",
       "    }\n",
       "\n",
       "    .dataframe tbody tr th {\n",
       "        vertical-align: top;\n",
       "    }\n",
       "\n",
       "    .dataframe thead th {\n",
       "        text-align: right;\n",
       "    }\n",
       "</style>\n",
       "<table border=\"1\" class=\"dataframe\">\n",
       "  <thead>\n",
       "    <tr style=\"text-align: right;\">\n",
       "      <th></th>\n",
       "      <th>Id</th>\n",
       "      <th>Tag</th>\n",
       "      <th>Tags</th>\n",
       "    </tr>\n",
       "  </thead>\n",
       "  <tbody>\n",
       "    <tr>\n",
       "      <th>14</th>\n",
       "      <td>260</td>\n",
       "      <td>c#</td>\n",
       "      <td>[c#]</td>\n",
       "    </tr>\n",
       "    <tr>\n",
       "      <th>18</th>\n",
       "      <td>330</td>\n",
       "      <td>c++</td>\n",
       "      <td>[c++]</td>\n",
       "    </tr>\n",
       "    <tr>\n",
       "      <th>28</th>\n",
       "      <td>650</td>\n",
       "      <td>c#</td>\n",
       "      <td>[c#]</td>\n",
       "    </tr>\n",
       "    <tr>\n",
       "      <th>35</th>\n",
       "      <td>930</td>\n",
       "      <td>c#</td>\n",
       "      <td>[c#]</td>\n",
       "    </tr>\n",
       "    <tr>\n",
       "      <th>39</th>\n",
       "      <td>1010</td>\n",
       "      <td>c#</td>\n",
       "      <td>[c#]</td>\n",
       "    </tr>\n",
       "  </tbody>\n",
       "</table>\n",
       "</div>"
      ],
      "text/plain": [
       "      Id  Tag   Tags\n",
       "14   260   c#   [c#]\n",
       "18   330  c++  [c++]\n",
       "28   650   c#   [c#]\n",
       "35   930   c#   [c#]\n",
       "39  1010   c#   [c#]"
      ]
     },
     "execution_count": 17,
     "metadata": {},
     "output_type": "execute_result"
    }
   ],
   "source": [
    "tag_top10=pd.concat([tag_top10, top10.rename('Tags')], axis=1)\n",
    "tag_top10.head()"
   ]
  },
  {
   "cell_type": "code",
   "execution_count": 18,
   "id": "e4c4546d",
   "metadata": {},
   "outputs": [
    {
     "data": {
      "text/plain": [
       "(826739, 2)"
      ]
     },
     "execution_count": 18,
     "metadata": {},
     "output_type": "execute_result"
    }
   ],
   "source": [
    "tag_top10.drop([\"Tag\"], axis=1, inplace=True)\n",
    "tag_top10.shape"
   ]
  },
  {
   "cell_type": "code",
   "execution_count": 19,
   "id": "accf1f2a",
   "metadata": {},
   "outputs": [],
   "source": [
    "top10_tags=tag_top10.loc[tag_top10.astype(str).drop_duplicates().index]"
   ]
  },
  {
   "cell_type": "code",
   "execution_count": 20,
   "id": "548e76a3",
   "metadata": {},
   "outputs": [
    {
     "data": {
      "text/html": [
       "<div>\n",
       "<style scoped>\n",
       "    .dataframe tbody tr th:only-of-type {\n",
       "        vertical-align: middle;\n",
       "    }\n",
       "\n",
       "    .dataframe tbody tr th {\n",
       "        vertical-align: top;\n",
       "    }\n",
       "\n",
       "    .dataframe thead th {\n",
       "        text-align: right;\n",
       "    }\n",
       "</style>\n",
       "<table border=\"1\" class=\"dataframe\">\n",
       "  <thead>\n",
       "    <tr style=\"text-align: right;\">\n",
       "      <th></th>\n",
       "      <th>Id</th>\n",
       "      <th>Title</th>\n",
       "      <th>Body</th>\n",
       "    </tr>\n",
       "  </thead>\n",
       "  <tbody>\n",
       "    <tr>\n",
       "      <th>0</th>\n",
       "      <td>80</td>\n",
       "      <td>SQLStatement.execute() - multiple queries in o...</td>\n",
       "      <td>I've written a database generation script in S...</td>\n",
       "    </tr>\n",
       "    <tr>\n",
       "      <th>1</th>\n",
       "      <td>90</td>\n",
       "      <td>Good branching and merging tutorials for Torto...</td>\n",
       "      <td>Are there any really good tutorials explaining...</td>\n",
       "    </tr>\n",
       "    <tr>\n",
       "      <th>2</th>\n",
       "      <td>120</td>\n",
       "      <td>ASP.NET Site Maps</td>\n",
       "      <td>Has anyone got experience creating SQL-based A...</td>\n",
       "    </tr>\n",
       "    <tr>\n",
       "      <th>3</th>\n",
       "      <td>180</td>\n",
       "      <td>Function for creating color wheels</td>\n",
       "      <td>This is something I've pseudo-solved many time...</td>\n",
       "    </tr>\n",
       "    <tr>\n",
       "      <th>4</th>\n",
       "      <td>260</td>\n",
       "      <td>Adding scripting functionality to .NET applica...</td>\n",
       "      <td>I have a little game written in C#. It uses a ...</td>\n",
       "    </tr>\n",
       "  </tbody>\n",
       "</table>\n",
       "</div>"
      ],
      "text/plain": [
       "    Id                                              Title  \\\n",
       "0   80  SQLStatement.execute() - multiple queries in o...   \n",
       "1   90  Good branching and merging tutorials for Torto...   \n",
       "2  120                                  ASP.NET Site Maps   \n",
       "3  180                 Function for creating color wheels   \n",
       "4  260  Adding scripting functionality to .NET applica...   \n",
       "\n",
       "                                                Body  \n",
       "0  I've written a database generation script in S...  \n",
       "1  Are there any really good tutorials explaining...  \n",
       "2  Has anyone got experience creating SQL-based A...  \n",
       "3  This is something I've pseudo-solved many time...  \n",
       "4  I have a little game written in C#. It uses a ...  "
      ]
     },
     "execution_count": 20,
     "metadata": {},
     "output_type": "execute_result"
    }
   ],
   "source": [
    "ques = pd.read_csv('question_clean.csv', encoding='iso-8859-1')\n",
    "ques.head()"
   ]
  },
  {
   "cell_type": "code",
   "execution_count": 21,
   "id": "7f990fed",
   "metadata": {},
   "outputs": [
    {
     "name": "stdout",
     "output_type": "stream",
     "text": [
      "(706336, 4)\n"
     ]
    },
    {
     "data": {
      "text/html": [
       "<div>\n",
       "<style scoped>\n",
       "    .dataframe tbody tr th:only-of-type {\n",
       "        vertical-align: middle;\n",
       "    }\n",
       "\n",
       "    .dataframe tbody tr th {\n",
       "        vertical-align: top;\n",
       "    }\n",
       "\n",
       "    .dataframe thead th {\n",
       "        text-align: right;\n",
       "    }\n",
       "</style>\n",
       "<table border=\"1\" class=\"dataframe\">\n",
       "  <thead>\n",
       "    <tr style=\"text-align: right;\">\n",
       "      <th></th>\n",
       "      <th>Id</th>\n",
       "      <th>Title</th>\n",
       "      <th>Body</th>\n",
       "      <th>Tags</th>\n",
       "    </tr>\n",
       "  </thead>\n",
       "  <tbody>\n",
       "    <tr>\n",
       "      <th>0</th>\n",
       "      <td>260</td>\n",
       "      <td>Adding scripting functionality to .NET applica...</td>\n",
       "      <td>I have a little game written in C#. It uses a ...</td>\n",
       "      <td>[c#]</td>\n",
       "    </tr>\n",
       "    <tr>\n",
       "      <th>1</th>\n",
       "      <td>330</td>\n",
       "      <td>Should I use nested classes in this case?</td>\n",
       "      <td>I am working on a collection of classes used f...</td>\n",
       "      <td>[c++]</td>\n",
       "    </tr>\n",
       "    <tr>\n",
       "      <th>2</th>\n",
       "      <td>650</td>\n",
       "      <td>Automatically update version number</td>\n",
       "      <td>I would like the version property of my applic...</td>\n",
       "      <td>[c#]</td>\n",
       "    </tr>\n",
       "    <tr>\n",
       "      <th>3</th>\n",
       "      <td>930</td>\n",
       "      <td>How do I connect to a database and loop over a...</td>\n",
       "      <td>What's the simplest way to connect and query a...</td>\n",
       "      <td>[c#]</td>\n",
       "    </tr>\n",
       "    <tr>\n",
       "      <th>4</th>\n",
       "      <td>1010</td>\n",
       "      <td>How to get the value of built, encoded ViewState?</td>\n",
       "      <td>I need to grab the base64-encoded representati...</td>\n",
       "      <td>[c#]</td>\n",
       "    </tr>\n",
       "  </tbody>\n",
       "</table>\n",
       "</div>"
      ],
      "text/plain": [
       "     Id                                              Title  \\\n",
       "0   260  Adding scripting functionality to .NET applica...   \n",
       "1   330          Should I use nested classes in this case?   \n",
       "2   650                Automatically update version number   \n",
       "3   930  How do I connect to a database and loop over a...   \n",
       "4  1010  How to get the value of built, encoded ViewState?   \n",
       "\n",
       "                                                Body   Tags  \n",
       "0  I have a little game written in C#. It uses a ...   [c#]  \n",
       "1  I am working on a collection of classes used f...  [c++]  \n",
       "2  I would like the version property of my applic...   [c#]  \n",
       "3  What's the simplest way to connect and query a...   [c#]  \n",
       "4  I need to grab the base64-encoded representati...   [c#]  "
      ]
     },
     "execution_count": 21,
     "metadata": {},
     "output_type": "execute_result"
    }
   ],
   "source": [
    "total=pd.merge(ques, top10_tags, on='Id')\n",
    "print(total.shape)\n",
    "total.head()"
   ]
  },
  {
   "cell_type": "code",
   "execution_count": 23,
   "id": "d42a0696",
   "metadata": {},
   "outputs": [
    {
     "name": "stdout",
     "output_type": "stream",
     "text": [
      "\u001b[33mDEPRECATION: Python 3.5 reached the end of its life on September 13th, 2020. Please upgrade your Python as Python 3.5 is no longer maintained. pip 21.0 will drop support for Python 3.5 in January 2021. pip 21.0 will remove support for this functionality.\u001b[0m\n",
      "Collecting nltk\n",
      "  Downloading nltk-3.6.2-py3-none-any.whl (1.5 MB)\n",
      "\u001b[K     |████████████████████████████████| 1.5 MB 317 kB/s eta 0:00:01\n",
      "\u001b[?25hRequirement already satisfied: joblib in /home/ccg/.virtualenvs/torch/lib/python3.5/site-packages (from nltk) (0.14.1)\n",
      "Requirement already satisfied: click in /home/ccg/.virtualenvs/torch/lib/python3.5/site-packages (from nltk) (7.1.2)\n",
      "Collecting regex\n",
      "  Downloading regex-2022.1.18.tar.gz (382 kB)\n",
      "\u001b[K     |████████████████████████████████| 382 kB 14.6 MB/s eta 0:00:01\n",
      "\u001b[?25hRequirement already satisfied: tqdm in /home/ccg/.virtualenvs/torch/lib/python3.5/site-packages (from nltk) (4.19.9)\n",
      "Building wheels for collected packages: regex\n",
      "  Building wheel for regex (setup.py) ... \u001b[?25ldone\n",
      "\u001b[?25h  Created wheel for regex: filename=regex-2022.1.18-cp35-cp35m-linux_x86_64.whl size=582164 sha256=c24c59ce30e2f166154a840cc1d609689dc3dc5550e6fd3cbf131e73242c3e71\n",
      "  Stored in directory: /home/ccg/.cache/pip/wheels/1c/9b/21/c57057279bdb70127eaa91744f80b779935882db92ba12eae4\n",
      "Successfully built regex\n",
      "Installing collected packages: regex, nltk\n",
      "Successfully installed nltk-3.6.2 regex-2022.1.18\n",
      "Note: you may need to restart the kernel to use updated packages.\n"
     ]
    }
   ],
   "source": [
    "pip install nltk"
   ]
  },
  {
   "cell_type": "code",
   "execution_count": 24,
   "id": "a4160517",
   "metadata": {},
   "outputs": [
    {
     "name": "stderr",
     "output_type": "stream",
     "text": [
      "Using TensorFlow backend.\n",
      "/home/ccg/.virtualenvs/torch/lib/python3.5/site-packages/tensorflow/python/framework/dtypes.py:516: FutureWarning: Passing (type, 1) or '1type' as a synonym of type is deprecated; in a future version of numpy, it will be understood as (type, (1,)) / '(1,)type'.\n",
      "  _np_qint8 = np.dtype([(\"qint8\", np.int8, 1)])\n",
      "/home/ccg/.virtualenvs/torch/lib/python3.5/site-packages/tensorflow/python/framework/dtypes.py:517: FutureWarning: Passing (type, 1) or '1type' as a synonym of type is deprecated; in a future version of numpy, it will be understood as (type, (1,)) / '(1,)type'.\n",
      "  _np_quint8 = np.dtype([(\"quint8\", np.uint8, 1)])\n",
      "/home/ccg/.virtualenvs/torch/lib/python3.5/site-packages/tensorflow/python/framework/dtypes.py:518: FutureWarning: Passing (type, 1) or '1type' as a synonym of type is deprecated; in a future version of numpy, it will be understood as (type, (1,)) / '(1,)type'.\n",
      "  _np_qint16 = np.dtype([(\"qint16\", np.int16, 1)])\n",
      "/home/ccg/.virtualenvs/torch/lib/python3.5/site-packages/tensorflow/python/framework/dtypes.py:519: FutureWarning: Passing (type, 1) or '1type' as a synonym of type is deprecated; in a future version of numpy, it will be understood as (type, (1,)) / '(1,)type'.\n",
      "  _np_quint16 = np.dtype([(\"quint16\", np.uint16, 1)])\n",
      "/home/ccg/.virtualenvs/torch/lib/python3.5/site-packages/tensorflow/python/framework/dtypes.py:520: FutureWarning: Passing (type, 1) or '1type' as a synonym of type is deprecated; in a future version of numpy, it will be understood as (type, (1,)) / '(1,)type'.\n",
      "  _np_qint32 = np.dtype([(\"qint32\", np.int32, 1)])\n",
      "/home/ccg/.virtualenvs/torch/lib/python3.5/site-packages/tensorflow/python/framework/dtypes.py:525: FutureWarning: Passing (type, 1) or '1type' as a synonym of type is deprecated; in a future version of numpy, it will be understood as (type, (1,)) / '(1,)type'.\n",
      "  np_resource = np.dtype([(\"resource\", np.ubyte, 1)])\n",
      "/home/ccg/.virtualenvs/torch/lib/python3.5/site-packages/OpenSSL/crypto.py:14: CryptographyDeprecationWarning: Python 3.5 support will be dropped in the next release of cryptography. Please upgrade your Python.\n",
      "  from cryptography import utils, x509\n",
      "/home/ccg/.virtualenvs/torch/lib/python3.5/site-packages/tensorboard/compat/tensorflow_stub/dtypes.py:541: FutureWarning: Passing (type, 1) or '1type' as a synonym of type is deprecated; in a future version of numpy, it will be understood as (type, (1,)) / '(1,)type'.\n",
      "  _np_qint8 = np.dtype([(\"qint8\", np.int8, 1)])\n",
      "/home/ccg/.virtualenvs/torch/lib/python3.5/site-packages/tensorboard/compat/tensorflow_stub/dtypes.py:542: FutureWarning: Passing (type, 1) or '1type' as a synonym of type is deprecated; in a future version of numpy, it will be understood as (type, (1,)) / '(1,)type'.\n",
      "  _np_quint8 = np.dtype([(\"quint8\", np.uint8, 1)])\n",
      "/home/ccg/.virtualenvs/torch/lib/python3.5/site-packages/tensorboard/compat/tensorflow_stub/dtypes.py:543: FutureWarning: Passing (type, 1) or '1type' as a synonym of type is deprecated; in a future version of numpy, it will be understood as (type, (1,)) / '(1,)type'.\n",
      "  _np_qint16 = np.dtype([(\"qint16\", np.int16, 1)])\n",
      "/home/ccg/.virtualenvs/torch/lib/python3.5/site-packages/tensorboard/compat/tensorflow_stub/dtypes.py:544: FutureWarning: Passing (type, 1) or '1type' as a synonym of type is deprecated; in a future version of numpy, it will be understood as (type, (1,)) / '(1,)type'.\n",
      "  _np_quint16 = np.dtype([(\"quint16\", np.uint16, 1)])\n",
      "/home/ccg/.virtualenvs/torch/lib/python3.5/site-packages/tensorboard/compat/tensorflow_stub/dtypes.py:545: FutureWarning: Passing (type, 1) or '1type' as a synonym of type is deprecated; in a future version of numpy, it will be understood as (type, (1,)) / '(1,)type'.\n",
      "  _np_qint32 = np.dtype([(\"qint32\", np.int32, 1)])\n",
      "/home/ccg/.virtualenvs/torch/lib/python3.5/site-packages/tensorboard/compat/tensorflow_stub/dtypes.py:550: FutureWarning: Passing (type, 1) or '1type' as a synonym of type is deprecated; in a future version of numpy, it will be understood as (type, (1,)) / '(1,)type'.\n",
      "  np_resource = np.dtype([(\"resource\", np.ubyte, 1)])\n"
     ]
    }
   ],
   "source": [
    "from sklearn.model_selection import train_test_split\n",
    "from sklearn.preprocessing import MultiLabelBinarizer\n",
    "from nltk import word_tokenize\n",
    "from keras.preprocessing.text import Tokenizer\n",
    "from keras.preprocessing import sequence\n",
    "from keras.layers import LSTM, Activation, Dense, Dropout, Input, Embedding, BatchNormalization, GRU ,concatenate\n",
    "from keras.models import Model"
   ]
  },
  {
   "cell_type": "code",
   "execution_count": 25,
   "id": "3396c143",
   "metadata": {},
   "outputs": [
    {
     "data": {
      "text/plain": [
       "array(['android', 'c#', 'c++', 'html', 'ios', 'java', 'javascript',\n",
       "       'jquery', 'php', 'python'], dtype=object)"
      ]
     },
     "execution_count": 25,
     "metadata": {},
     "output_type": "execute_result"
    }
   ],
   "source": [
    "multilabel_binarizer = MultiLabelBinarizer()\n",
    "multilabel_binarizer.fit(total.Tags)\n",
    "labels = multilabel_binarizer.classes_\n",
    "labels"
   ]
  },
  {
   "cell_type": "code",
   "execution_count": 26,
   "id": "16fe9371",
   "metadata": {},
   "outputs": [],
   "source": [
    "train,test=train_test_split(total[:550000],test_size=0.25,random_state=24)"
   ]
  },
  {
   "cell_type": "code",
   "execution_count": 27,
   "id": "d7da8496",
   "metadata": {},
   "outputs": [
    {
     "data": {
      "text/plain": [
       "((412500, 4), (137500, 4))"
      ]
     },
     "execution_count": 27,
     "metadata": {},
     "output_type": "execute_result"
    }
   ],
   "source": [
    "train.shape,test.shape"
   ]
  },
  {
   "cell_type": "code",
   "execution_count": 28,
   "id": "05889f66",
   "metadata": {},
   "outputs": [],
   "source": [
    "X_train_t=train['Title']\n",
    "X_train_b=train['Body']\n",
    "y_train=multilabel_binarizer.transform(train['Tags'])\n",
    "X_test_t=test['Title']\n",
    "X_test_b=test['Body']\n",
    "y_test=multilabel_binarizer.transform(test['Tags'])"
   ]
  },
  {
   "cell_type": "code",
   "execution_count": 29,
   "id": "cc5c56cd",
   "metadata": {},
   "outputs": [
    {
     "name": "stderr",
     "output_type": "stream",
     "text": [
      "[nltk_data] Downloading package punkt to /home/ccg/nltk_data...\n",
      "[nltk_data]   Unzipping tokenizers/punkt.zip.\n"
     ]
    },
    {
     "data": {
      "text/plain": [
       "True"
      ]
     },
     "execution_count": 29,
     "metadata": {},
     "output_type": "execute_result"
    }
   ],
   "source": [
    "import nltk\n",
    "nltk.download('punkt')"
   ]
  },
  {
   "cell_type": "code",
   "execution_count": 30,
   "id": "54bdc2d6",
   "metadata": {},
   "outputs": [
    {
     "data": {
      "text/plain": [
       "60"
      ]
     },
     "execution_count": 30,
     "metadata": {},
     "output_type": "execute_result"
    }
   ],
   "source": [
    "sent_lens_t=[]\n",
    "for sent in train['Title']:\n",
    "    sent_lens_t.append(len(word_tokenize(sent)))\n",
    "max(sent_lens_t)"
   ]
  },
  {
   "cell_type": "code",
   "execution_count": 31,
   "id": "3e41d2a7",
   "metadata": {},
   "outputs": [
    {
     "data": {
      "text/plain": [
       "18.0"
      ]
     },
     "execution_count": 31,
     "metadata": {},
     "output_type": "execute_result"
    }
   ],
   "source": [
    "np.quantile(sent_lens_t,0.97)"
   ]
  },
  {
   "cell_type": "code",
   "execution_count": 32,
   "id": "ffeda435",
   "metadata": {},
   "outputs": [],
   "source": [
    "max_len_t = 18\n",
    "tok = Tokenizer(char_level=False,split=' ')\n",
    "tok.fit_on_texts(X_train_t)\n",
    "sequences_train_t = tok.texts_to_sequences(X_train_t)"
   ]
  },
  {
   "cell_type": "code",
   "execution_count": 33,
   "id": "1172fce9",
   "metadata": {},
   "outputs": [
    {
     "data": {
      "text/plain": [
       "68969"
      ]
     },
     "execution_count": 33,
     "metadata": {},
     "output_type": "execute_result"
    }
   ],
   "source": [
    "vocab_len_t=len(tok.index_word.keys())\n",
    "vocab_len_t"
   ]
  },
  {
   "cell_type": "code",
   "execution_count": 35,
   "id": "f766c3ea",
   "metadata": {},
   "outputs": [
    {
     "data": {
      "text/plain": [
       "array([[    0,     0,     0, ...,     1,   957,   197],\n",
       "       [    0,     0,     0, ...,  9081,    45,   533],\n",
       "       [    0,     0,     0, ...,   147,     8,   230],\n",
       "       ...,\n",
       "       [    0,     0,     0, ...,    10,    71,  2985],\n",
       "       [    0,     0,     0, ...,     2,    18,    75],\n",
       "       [    0,     0,     0, ..., 11009,   809,   267]], dtype=int32)"
      ]
     },
     "execution_count": 35,
     "metadata": {},
     "output_type": "execute_result"
    }
   ],
   "source": [
    "# from keras.utils import pad_sequences\n",
    "from keras_preprocessing.sequence import pad_sequences\n",
    "\n",
    "sequences_matrix_train_t = pad_sequences(sequences_train_t,maxlen=max_len_t)\n",
    "sequences_matrix_train_t"
   ]
  },
  {
   "cell_type": "code",
   "execution_count": 36,
   "id": "280d874c",
   "metadata": {},
   "outputs": [],
   "source": [
    "sequences_test_t = tok.texts_to_sequences(X_test_t)\n",
    "sequences_matrix_test_t = pad_sequences(sequences_test_t,maxlen=max_len_t)"
   ]
  },
  {
   "cell_type": "code",
   "execution_count": 37,
   "id": "eaa2283f",
   "metadata": {},
   "outputs": [
    {
     "data": {
      "text/plain": [
       "((412500, 18), (137500, 18), (412500, 10), (137500, 10))"
      ]
     },
     "execution_count": 37,
     "metadata": {},
     "output_type": "execute_result"
    }
   ],
   "source": [
    "sequences_matrix_train_t.shape,sequences_matrix_test_t.shape,y_train.shape,y_test.shape"
   ]
  },
  {
   "cell_type": "code",
   "execution_count": 38,
   "id": "c43e2d48",
   "metadata": {},
   "outputs": [
    {
     "data": {
      "text/plain": [
       "20868"
      ]
     },
     "execution_count": 38,
     "metadata": {},
     "output_type": "execute_result"
    }
   ],
   "source": [
    "sent_lens_b=[]\n",
    "for sent in train['Body']:\n",
    "    sent_lens_b.append(len(word_tokenize(sent)))\n",
    "max(sent_lens_b)"
   ]
  },
  {
   "cell_type": "code",
   "execution_count": 39,
   "id": "1a30420c",
   "metadata": {},
   "outputs": [
    {
     "data": {
      "text/plain": [
       "578.0"
      ]
     },
     "execution_count": 39,
     "metadata": {},
     "output_type": "execute_result"
    }
   ],
   "source": [
    "np.quantile(sent_lens_b,0.90)"
   ]
  },
  {
   "cell_type": "code",
   "execution_count": 40,
   "id": "1bf26063",
   "metadata": {},
   "outputs": [],
   "source": [
    "max_len_b = 600\n",
    "tok = Tokenizer(char_level=False,split=' ')\n",
    "tok.fit_on_texts(X_train_b)\n",
    "sequences_train_b = tok.texts_to_sequences(X_train_b)"
   ]
  },
  {
   "cell_type": "code",
   "execution_count": 41,
   "id": "d6aa38e7",
   "metadata": {},
   "outputs": [
    {
     "data": {
      "text/plain": [
       "1292018"
      ]
     },
     "execution_count": 41,
     "metadata": {},
     "output_type": "execute_result"
    }
   ],
   "source": [
    "vocab_len_b =len(tok.index_word.keys())\n",
    "vocab_len_b "
   ]
  },
  {
   "cell_type": "code",
   "execution_count": 42,
   "id": "f0ffb3ae",
   "metadata": {},
   "outputs": [
    {
     "data": {
      "text/plain": [
       "array([[   0,    0,    0, ...,   51, 2082,   91],\n",
       "       [   0,    0,    0, ..., 1408,  203,  825],\n",
       "       [   0,    0,    0, ...,   34,   51,   83],\n",
       "       ...,\n",
       "       [   0,    0,    0, ...,   20,   68,  687],\n",
       "       [   0,    0,    0, ...,  187,   58,   10],\n",
       "       [   0,    0,    0, ...,  194,  197,   10]], dtype=int32)"
      ]
     },
     "execution_count": 42,
     "metadata": {},
     "output_type": "execute_result"
    }
   ],
   "source": [
    "sequences_matrix_train_b = pad_sequences(sequences_train_b,maxlen=max_len_b)\n",
    "sequences_matrix_train_b"
   ]
  },
  {
   "cell_type": "code",
   "execution_count": 43,
   "id": "cbcc93af",
   "metadata": {},
   "outputs": [],
   "source": [
    "sequences_test_b = tok.texts_to_sequences(X_test_b)\n",
    "sequences_matrix_test_b = pad_sequences(sequences_test_b,maxlen=max_len_b)"
   ]
  },
  {
   "cell_type": "code",
   "execution_count": 44,
   "id": "e6f86d94",
   "metadata": {},
   "outputs": [
    {
     "data": {
      "text/plain": [
       "((412500, 18), (412500, 600), (412500, 10))"
      ]
     },
     "execution_count": 44,
     "metadata": {},
     "output_type": "execute_result"
    }
   ],
   "source": [
    "sequences_matrix_train_t.shape,sequences_matrix_train_b.shape,y_train.shape"
   ]
  },
  {
   "cell_type": "code",
   "execution_count": 45,
   "id": "2f825bc1",
   "metadata": {},
   "outputs": [
    {
     "data": {
      "text/plain": [
       "((137500, 18), (137500, 600), (137500, 10))"
      ]
     },
     "execution_count": 45,
     "metadata": {},
     "output_type": "execute_result"
    }
   ],
   "source": [
    "sequences_matrix_test_t.shape,sequences_matrix_test_b.shape,y_test.shape"
   ]
  },
  {
   "cell_type": "code",
   "execution_count": 46,
   "id": "b937baa0",
   "metadata": {},
   "outputs": [],
   "source": [
    "def RNN():\n",
    " \n",
    "    title_input = Input(name='title_input',shape=[max_len_t])\n",
    "    title_Embed = Embedding(vocab_len_t+1,2000,input_length=max_len_t,mask_zero=True,name='title_Embed')(title_input)\n",
    "    gru_out_t = GRU(300)(title_Embed)\n",
    "  \n",
    "    auxiliary_output = Dense(10, activation='sigmoid', name='aux_output')(gru_out_t)   \n",
    " \n",
    "    body_input = Input(name='body_input',shape=[max_len_b]) \n",
    "    body_Embed = Embedding(vocab_len_b+1,170,input_length=max_len_b,mask_zero=True,name='body_Embed')(body_input)\n",
    "    gru_out_b = GRU(200)(body_Embed)\n",
    "  \n",
    "    com = concatenate([gru_out_t, gru_out_b])\n",
    "    \n",
    "    dense1 = Dense(400,activation='relu')(com)\n",
    "    dp1 = Dropout(0.5)(dense1)\n",
    "    bn = BatchNormalization()(dp1) \n",
    "    dense2 = Dense(150,activation='relu')(bn)\n",
    "    \n",
    "    main_output = Dense(10, activation='sigmoid', name='main_output')(dense2)\n",
    "    \n",
    "    model = Model(inputs=[title_input, body_input],outputs=[main_output, auxiliary_output])\n",
    "    return model"
   ]
  },
  {
   "cell_type": "code",
   "execution_count": 47,
   "id": "b30d1140",
   "metadata": {},
   "outputs": [
    {
     "name": "stdout",
     "output_type": "stream",
     "text": [
      "WARNING:tensorflow:From /home/ccg/.virtualenvs/torch/lib/python3.5/site-packages/keras/backend/tensorflow_backend.py:517: The name tf.placeholder is deprecated. Please use tf.compat.v1.placeholder instead.\n",
      "\n",
      "WARNING:tensorflow:From /home/ccg/.virtualenvs/torch/lib/python3.5/site-packages/keras/backend/tensorflow_backend.py:4138: The name tf.random_uniform is deprecated. Please use tf.random.uniform instead.\n",
      "\n",
      "WARNING:tensorflow:From /home/ccg/.virtualenvs/torch/lib/python3.5/site-packages/keras/backend/tensorflow_backend.py:74: The name tf.get_default_graph is deprecated. Please use tf.compat.v1.get_default_graph instead.\n",
      "\n",
      "WARNING:tensorflow:From /home/ccg/.virtualenvs/torch/lib/python3.5/site-packages/keras/backend/tensorflow_backend.py:2974: add_dispatch_support.<locals>.wrapper (from tensorflow.python.ops.array_ops) is deprecated and will be removed in a future version.\n",
      "Instructions for updating:\n",
      "Use tf.where in 2.0, which has the same broadcast rule as np.where\n",
      "WARNING:tensorflow:From /home/ccg/.virtualenvs/torch/lib/python3.5/site-packages/keras/backend/tensorflow_backend.py:133: The name tf.placeholder_with_default is deprecated. Please use tf.compat.v1.placeholder_with_default instead.\n",
      "\n",
      "WARNING:tensorflow:From /home/ccg/.virtualenvs/torch/lib/python3.5/site-packages/keras/backend/tensorflow_backend.py:3445: calling dropout (from tensorflow.python.ops.nn_ops) with keep_prob is deprecated and will be removed in a future version.\n",
      "Instructions for updating:\n",
      "Please use `rate` instead of `keep_prob`. Rate should be set to `rate = 1 - keep_prob`.\n",
      "__________________________________________________________________________________________________\n",
      "Layer (type)                    Output Shape         Param #     Connected to                     \n",
      "==================================================================================================\n",
      "title_input (InputLayer)        (None, 18)           0                                            \n",
      "__________________________________________________________________________________________________\n",
      "body_input (InputLayer)         (None, 600)          0                                            \n",
      "__________________________________________________________________________________________________\n",
      "title_Embed (Embedding)         (None, 18, 2000)     137940000   title_input[0][0]                \n",
      "__________________________________________________________________________________________________\n",
      "body_Embed (Embedding)          (None, 600, 170)     219643230   body_input[0][0]                 \n",
      "__________________________________________________________________________________________________\n",
      "gru_1 (GRU)                     (None, 300)          2070900     title_Embed[0][0]                \n",
      "__________________________________________________________________________________________________\n",
      "gru_2 (GRU)                     (None, 200)          222600      body_Embed[0][0]                 \n",
      "__________________________________________________________________________________________________\n",
      "concatenate_1 (Concatenate)     (None, 500)          0           gru_1[0][0]                      \n",
      "                                                                 gru_2[0][0]                      \n",
      "__________________________________________________________________________________________________\n",
      "dense_1 (Dense)                 (None, 400)          200400      concatenate_1[0][0]              \n",
      "__________________________________________________________________________________________________\n",
      "dropout_1 (Dropout)             (None, 400)          0           dense_1[0][0]                    \n",
      "__________________________________________________________________________________________________\n",
      "batch_normalization_1 (BatchNor (None, 400)          1600        dropout_1[0][0]                  \n",
      "__________________________________________________________________________________________________\n",
      "dense_2 (Dense)                 (None, 150)          60150       batch_normalization_1[0][0]      \n",
      "__________________________________________________________________________________________________\n",
      "main_output (Dense)             (None, 10)           1510        dense_2[0][0]                    \n",
      "__________________________________________________________________________________________________\n",
      "aux_output (Dense)              (None, 10)           3010        gru_1[0][0]                      \n",
      "==================================================================================================\n",
      "Total params: 360,143,400\n",
      "Trainable params: 360,142,600\n",
      "Non-trainable params: 800\n",
      "__________________________________________________________________________________________________\n"
     ]
    }
   ],
   "source": [
    "model = RNN()\n",
    "model.summary()"
   ]
  },
  {
   "cell_type": "code",
   "execution_count": 48,
   "id": "85648b70",
   "metadata": {},
   "outputs": [
    {
     "name": "stdout",
     "output_type": "stream",
     "text": [
      "WARNING:tensorflow:From /home/ccg/.virtualenvs/torch/lib/python3.5/site-packages/keras/optimizers.py:790: The name tf.train.Optimizer is deprecated. Please use tf.compat.v1.train.Optimizer instead.\n",
      "\n",
      "WARNING:tensorflow:From /home/ccg/.virtualenvs/torch/lib/python3.5/site-packages/keras/backend/tensorflow_backend.py:3295: The name tf.log is deprecated. Please use tf.math.log instead.\n",
      "\n"
     ]
    }
   ],
   "source": [
    "model.compile(optimizer='adam',loss={'main_output': 'categorical_crossentropy', 'aux_output': 'categorical_crossentropy'},\n",
    "              metrics=['accuracy'])"
   ]
  },
  {
   "cell_type": "code",
   "execution_count": 50,
   "id": "60a115fd",
   "metadata": {},
   "outputs": [
    {
     "name": "stdout",
     "output_type": "stream",
     "text": [
      "Train on 412500 samples, validate on 137500 samples\n",
      "Epoch 1/3\n",
      "412500/412500 [==============================] - 15817s 38ms/step - loss: 2.0413 - main_output_loss: 0.8846 - aux_output_loss: 1.1567 - main_output_acc: 0.7761 - aux_output_acc: 0.6954 - val_loss: 1.6890 - val_main_output_loss: 0.6478 - val_aux_output_loss: 1.0412 - val_main_output_acc: 0.8442 - val_aux_output_acc: 0.7307\n",
      "Epoch 2/3\n",
      "412500/412500 [==============================] - 15827s 38ms/step - loss: 1.5182 - main_output_loss: 0.5941 - aux_output_loss: 0.9241 - main_output_acc: 0.8557 - aux_output_acc: 0.7621 - val_loss: 1.6767 - val_main_output_loss: 0.6250 - val_aux_output_loss: 1.0517 - val_main_output_acc: 0.8443 - val_aux_output_acc: 0.7287\n",
      "Epoch 3/3\n",
      "412500/412500 [==============================] - 15856s 38ms/step - loss: 1.3232 - main_output_loss: 0.4986 - aux_output_loss: 0.8246 - main_output_acc: 0.8749 - aux_output_acc: 0.7846 - val_loss: 1.7445 - val_main_output_loss: 0.6588 - val_aux_output_loss: 1.0856 - val_main_output_acc: 0.8380 - val_aux_output_acc: 0.7275\n"
     ]
    }
   ],
   "source": [
    "results=model.fit({'title_input': sequences_matrix_train_t, 'body_input': sequences_matrix_train_b},\n",
    "          {'main_output': y_train, 'aux_output': y_train},\n",
    "          validation_data=[{'title_input': sequences_matrix_test_t, 'body_input': sequences_matrix_test_b},\n",
    "          {'main_output': y_test, 'aux_output': y_test}],\n",
    "          epochs=3, batch_size=128)"
   ]
  },
  {
   "cell_type": "code",
   "execution_count": 52,
   "id": "5b733aa6",
   "metadata": {},
   "outputs": [
    {
     "name": "stdout",
     "output_type": "stream",
     "text": [
      "137500/137500 [==============================] - 525s 4ms/step\n"
     ]
    }
   ],
   "source": [
    "(predicted_main, predicted_aux)=model.predict({'title_input': sequences_matrix_test_t, 'body_input': sequences_matrix_test_b},verbose=1)"
   ]
  },
  {
   "cell_type": "code",
   "execution_count": 53,
   "id": "0be1d643",
   "metadata": {},
   "outputs": [],
   "source": [
    "from sklearn.metrics import classification_report,f1_score"
   ]
  },
  {
   "cell_type": "code",
   "execution_count": 54,
   "id": "a7c090c6",
   "metadata": {},
   "outputs": [
    {
     "name": "stdout",
     "output_type": "stream",
     "text": [
      "0.8540977835497835\n"
     ]
    }
   ],
   "source": [
    "print(f1_score(y_test,predicted_main>.55,average='samples'))"
   ]
  },
  {
   "cell_type": "code",
   "execution_count": 55,
   "id": "9afb39b5",
   "metadata": {},
   "outputs": [
    {
     "name": "stdout",
     "output_type": "stream",
     "text": [
      "              precision    recall  f1-score   support\n",
      "\n",
      "           0       0.96      0.94      0.95     17054\n",
      "           1       0.93      0.84      0.88     20681\n",
      "           2       0.92      0.84      0.88      9700\n",
      "           3       0.78      0.46      0.58     11304\n",
      "           4       0.96      0.92      0.94      8897\n",
      "           5       0.92      0.83      0.87     22472\n",
      "           6       0.85      0.69      0.76     22938\n",
      "           7       0.84      0.82      0.83     16150\n",
      "           8       0.93      0.89      0.91     19659\n",
      "           9       0.97      0.94      0.96     11576\n",
      "\n",
      "   micro avg       0.91      0.82      0.86    160431\n",
      "   macro avg       0.91      0.82      0.86    160431\n",
      "weighted avg       0.91      0.82      0.86    160431\n",
      " samples avg       0.88      0.86      0.85    160431\n",
      "\n"
     ]
    },
    {
     "name": "stderr",
     "output_type": "stream",
     "text": [
      "/home/ccg/.virtualenvs/torch/lib/python3.5/site-packages/sklearn/metrics/_classification.py:1272: UndefinedMetricWarning: Precision and F-score are ill-defined and being set to 0.0 in samples with no predicted labels. Use `zero_division` parameter to control this behavior.\n",
      "  _warn_prf(average, modifier, msg_start, len(result))\n"
     ]
    }
   ],
   "source": [
    "print(classification_report(y_test,predicted_main>.55))"
   ]
  },
  {
   "cell_type": "code",
   "execution_count": 56,
   "id": "d4925669",
   "metadata": {},
   "outputs": [
    {
     "data": {
      "text/plain": [
       "Id                                                16470700\n",
       "Title    NetworkOnMainThreadException- Have tried makin...\n",
       "Body     I've been trying to get this to work for a whi...\n",
       "Tags                                       [java, android]\n",
       "Name: 250148, dtype: object"
      ]
     },
     "execution_count": 56,
     "metadata": {},
     "output_type": "execute_result"
    }
   ],
   "source": [
    "test.iloc[24]"
   ]
  },
  {
   "cell_type": "code",
   "execution_count": 57,
   "id": "b3754fd7",
   "metadata": {},
   "outputs": [
    {
     "data": {
      "text/plain": [
       "array([1.  , 0.  , 0.  , 0.  , 0.  , 0.62, 0.  , 0.  , 0.  , 0.  ],\n",
       "      dtype=float32)"
      ]
     },
     "execution_count": 57,
     "metadata": {},
     "output_type": "execute_result"
    }
   ],
   "source": [
    "predicted_main[24].round(decimals = 2)"
   ]
  },
  {
   "cell_type": "code",
   "execution_count": 58,
   "id": "ac116c27",
   "metadata": {},
   "outputs": [
    {
     "data": {
      "text/plain": [
       "array(['android', 'c#', 'c++', 'html', 'ios', 'java', 'javascript',\n",
       "       'jquery', 'php', 'python'], dtype=object)"
      ]
     },
     "execution_count": 58,
     "metadata": {},
     "output_type": "execute_result"
    }
   ],
   "source": [
    "labels"
   ]
  },
  {
   "cell_type": "code",
   "execution_count": 51,
   "id": "ccaaaa96",
   "metadata": {},
   "outputs": [],
   "source": [
    "model.save('model.h5')"
   ]
  },
  {
   "cell_type": "code",
   "execution_count": null,
   "id": "36662542",
   "metadata": {},
   "outputs": [],
   "source": []
  }
 ],
 "metadata": {
  "kernelspec": {
   "display_name": "Python 3 (ipykernel)",
   "language": "python",
   "name": "python3"
  },
  "language_info": {
   "codemirror_mode": {
    "name": "ipython",
    "version": 3
   },
   "file_extension": ".py",
   "mimetype": "text/x-python",
   "name": "python",
   "nbconvert_exporter": "python",
   "pygments_lexer": "ipython3",
   "version": "3.9.12"
  }
 },
 "nbformat": 4,
 "nbformat_minor": 5
}
